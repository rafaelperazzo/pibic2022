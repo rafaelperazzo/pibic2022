{
 "cells": [
  {
   "cell_type": "code",
   "execution_count": 24,
   "metadata": {
    "collapsed": true,
    "pycharm": {
     "name": "#%%\n"
    }
   },
   "outputs": [],
   "source": [
    "import pandas as pd\n"
   ]
  },
  {
   "cell_type": "code",
   "execution_count": 25,
   "outputs": [],
   "source": [
    "df = pd.read_csv('traefik.csv',sep=',')"
   ],
   "metadata": {
    "collapsed": false,
    "pycharm": {
     "name": "#%%\n"
    }
   }
  },
  {
   "cell_type": "code",
   "execution_count": 26,
   "outputs": [
    {
     "data": {
      "text/plain": "                       data1       data2             ip  status metodo  \\\n0        2022-01-06 06:01:46  2022-01-06  216.245.221.0     200   HEAD   \n1        2022-01-06 06:01:46  2022-01-06  216.245.221.0     200   HEAD   \n2        2022-01-06 06:01:46  2022-01-06  216.245.221.0     200   HEAD   \n3        2022-01-06 06:01:47  2022-01-06  216.245.221.0     200   HEAD   \n4        2022-01-06 06:01:46  2022-01-06  216.245.221.0     200   HEAD   \n...                      ...         ...            ...     ...    ...   \n4631782  2021-09-27 08:09:38  2021-09-27    54.94.159.0     404    GET   \n4631783  2021-09-27 08:09:53  2021-09-27    54.94.159.0     404    GET   \n4631784  2021-09-27 08:09:12  2021-09-27    54.94.159.0     404    GET   \n4631785  2021-09-27 08:09:14  2021-09-27    54.94.159.0     404    GET   \n4631786  2021-09-27 08:09:53  2021-09-27  216.245.221.0     200   HEAD   \n\n                                                   recurso  \n0                                                  /main/   \n1                                                  /main/   \n2                                                  /main/   \n3                                                  /main/   \n4                                                  /main/   \n...                                                    ...  \n4631782  /remote/error?errmsg=ABABAB--%3E%3Cscript%3Eal...  \n4631783  /WidgetHandler.ashx?MethodName=Sort&ID=1&row=1...  \n4631784                                             /%2f/   \n4631785                           /sample-apps/hello/%2f/   \n4631786                                            /main/   \n\n[4631787 rows x 6 columns]",
      "text/html": "<div>\n<style scoped>\n    .dataframe tbody tr th:only-of-type {\n        vertical-align: middle;\n    }\n\n    .dataframe tbody tr th {\n        vertical-align: top;\n    }\n\n    .dataframe thead th {\n        text-align: right;\n    }\n</style>\n<table border=\"1\" class=\"dataframe\">\n  <thead>\n    <tr style=\"text-align: right;\">\n      <th></th>\n      <th>data1</th>\n      <th>data2</th>\n      <th>ip</th>\n      <th>status</th>\n      <th>metodo</th>\n      <th>recurso</th>\n    </tr>\n  </thead>\n  <tbody>\n    <tr>\n      <th>0</th>\n      <td>2022-01-06 06:01:46</td>\n      <td>2022-01-06</td>\n      <td>216.245.221.0</td>\n      <td>200</td>\n      <td>HEAD</td>\n      <td>/main/</td>\n    </tr>\n    <tr>\n      <th>1</th>\n      <td>2022-01-06 06:01:46</td>\n      <td>2022-01-06</td>\n      <td>216.245.221.0</td>\n      <td>200</td>\n      <td>HEAD</td>\n      <td>/main/</td>\n    </tr>\n    <tr>\n      <th>2</th>\n      <td>2022-01-06 06:01:46</td>\n      <td>2022-01-06</td>\n      <td>216.245.221.0</td>\n      <td>200</td>\n      <td>HEAD</td>\n      <td>/main/</td>\n    </tr>\n    <tr>\n      <th>3</th>\n      <td>2022-01-06 06:01:47</td>\n      <td>2022-01-06</td>\n      <td>216.245.221.0</td>\n      <td>200</td>\n      <td>HEAD</td>\n      <td>/main/</td>\n    </tr>\n    <tr>\n      <th>4</th>\n      <td>2022-01-06 06:01:46</td>\n      <td>2022-01-06</td>\n      <td>216.245.221.0</td>\n      <td>200</td>\n      <td>HEAD</td>\n      <td>/main/</td>\n    </tr>\n    <tr>\n      <th>...</th>\n      <td>...</td>\n      <td>...</td>\n      <td>...</td>\n      <td>...</td>\n      <td>...</td>\n      <td>...</td>\n    </tr>\n    <tr>\n      <th>4631782</th>\n      <td>2021-09-27 08:09:38</td>\n      <td>2021-09-27</td>\n      <td>54.94.159.0</td>\n      <td>404</td>\n      <td>GET</td>\n      <td>/remote/error?errmsg=ABABAB--%3E%3Cscript%3Eal...</td>\n    </tr>\n    <tr>\n      <th>4631783</th>\n      <td>2021-09-27 08:09:53</td>\n      <td>2021-09-27</td>\n      <td>54.94.159.0</td>\n      <td>404</td>\n      <td>GET</td>\n      <td>/WidgetHandler.ashx?MethodName=Sort&amp;ID=1&amp;row=1...</td>\n    </tr>\n    <tr>\n      <th>4631784</th>\n      <td>2021-09-27 08:09:12</td>\n      <td>2021-09-27</td>\n      <td>54.94.159.0</td>\n      <td>404</td>\n      <td>GET</td>\n      <td>/%2f/</td>\n    </tr>\n    <tr>\n      <th>4631785</th>\n      <td>2021-09-27 08:09:14</td>\n      <td>2021-09-27</td>\n      <td>54.94.159.0</td>\n      <td>404</td>\n      <td>GET</td>\n      <td>/sample-apps/hello/%2f/</td>\n    </tr>\n    <tr>\n      <th>4631786</th>\n      <td>2021-09-27 08:09:53</td>\n      <td>2021-09-27</td>\n      <td>216.245.221.0</td>\n      <td>200</td>\n      <td>HEAD</td>\n      <td>/main/</td>\n    </tr>\n  </tbody>\n</table>\n<p>4631787 rows × 6 columns</p>\n</div>"
     },
     "execution_count": 26,
     "metadata": {},
     "output_type": "execute_result"
    }
   ],
   "source": [
    "df"
   ],
   "metadata": {
    "collapsed": false,
    "pycharm": {
     "name": "#%%\n"
    }
   }
  },
  {
   "cell_type": "markdown",
   "source": [
    "## Perguntas\n",
    "* Existe algum padrão de horário ?\n",
    "* Algum IP específico ? (agrupar)\n",
    "* Padrões de recursos ? (agrupar por recurso)\n",
    "* Quantos métodos diferentes ? (para o status 200 e 404). Considere apenas entre / /"
   ],
   "metadata": {
    "collapsed": false,
    "pycharm": {
     "name": "#%% md\n"
    }
   }
  },
  {
   "cell_type": "markdown",
   "source": [
    "## Gráficos\n",
    "* Acessos Por data (totais, e por método)\n",
    "* Por método\n",
    "* Por status, método"
   ],
   "metadata": {
    "collapsed": false,
    "pycharm": {
     "name": "#%% md\n"
    }
   }
  },
  {
   "cell_type": "code",
   "execution_count": 23,
   "outputs": [],
   "source": [],
   "metadata": {
    "collapsed": false,
    "pycharm": {
     "name": "#%%\n"
    }
   }
  }
 ],
 "metadata": {
  "kernelspec": {
   "display_name": "Python 3",
   "language": "python",
   "name": "python3"
  },
  "language_info": {
   "codemirror_mode": {
    "name": "ipython",
    "version": 2
   },
   "file_extension": ".py",
   "mimetype": "text/x-python",
   "name": "python",
   "nbconvert_exporter": "python",
   "pygments_lexer": "ipython2",
   "version": "2.7.6"
  }
 },
 "nbformat": 4,
 "nbformat_minor": 0
}